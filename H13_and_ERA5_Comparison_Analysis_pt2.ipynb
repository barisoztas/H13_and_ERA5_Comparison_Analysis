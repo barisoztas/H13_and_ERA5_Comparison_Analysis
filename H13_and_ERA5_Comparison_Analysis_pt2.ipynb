{
 "cells": [
  {
   "cell_type": "markdown",
   "metadata": {},
   "source": [
    "### H13 (Snow Water Equivalent) product can be analyzed and compared to ERA5 snow density reanalysis data using this module (monthly)\n",
    "\n",
    "This module is the continuation of the first one. It compares H13 and ERA5 maximum and minimum snow density for selected regions (Norway, Alps and Mountanous Regions of Turkey). "
   ]
  },
  {
   "cell_type": "code",
   "execution_count": 1,
   "metadata": {},
   "outputs": [
    {
     "name": "stderr",
     "output_type": "stream",
     "text": [
      "/home/knn/.local/lib/python3.6/site-packages/pandas/compat/_optional.py:124: UserWarning: Pandas requires version '1.2.1' or newer of 'bottleneck' (version '1.2.0' currently installed).\n",
      "  warnings.warn(msg, UserWarning)\n"
     ]
    }
   ],
   "source": [
    "import os\n",
    "import glob\n",
    "import pandas as pd\n",
    "from osgeo import gdal, ogr, gdal_array\n",
    "from osgeo.gdalconst import *\n",
    "import numpy as np\n",
    "import sys\n",
    "import matplotlib.pyplot as plt\n",
    "import gdal\n",
    "import datetime\n",
    "from datetime import timedelta\n",
    "import matplotlib\n",
    "\n",
    "start = datetime.datetime.strptime(\"20130101\", \"%Y%m%d\")\n",
    "end = datetime.datetime.strptime(\"20191231\", \"%Y%m%d\")\n",
    "date_list2 = [start + timedelta(n) for n in range(int((end - start).days) + 1)]\n",
    "df3 = pd.DataFrame({'date':date_list2})\n",
    "\n",
    "\n",
    "df3['month_year'] = df3['date'].dt.to_period('M')\n",
    "df3['year']= df3['date'].dt.year\n",
    "df3['months']= df3['date'].dt.month\n",
    "\n",
    "dateList3 = df3['month_year'].astype(str).values.tolist()\n",
    "dateList3 = sorted(list(set(dateList3)))\n",
    "yearList = df3['year'].astype(str).values.tolist()\n",
    "monthList1 = df3['months'].astype(str).values.tolist()\n",
    "uniquemonthList=sorted(map(int,(list(set(monthList1)))))\n",
    "uniqueyearList= sorted(list(set(yearList)))\n",
    "\n",
    "yearList = [ele for ele in uniqueyearList for i in range(12)]\n",
    "monthList = sorted(list(map(int,uniquemonthList)))* 7\n",
    "\n",
    "process_path = '/home/knn/Desktop/HSAF_Snow_Analysis/SWE/H13_and_ERA5_Comparison_Analysis/era5_test_data'\n",
    "process_path2 = '/home/knn/Desktop/HSAF_Snow_Analysis/SWE/H13_and_ERA5_Comparison_Analysis/rho_test_data'\n",
    "file = glob.glob1(\"./areas_master/\", '*.' + 'shp')\n",
    "file_n = os.path.join('./areas_master/', file[0])\n",
    "\n",
    "\n",
    "def bbox_to_pixel_offsets(gt, bbox):\n",
    "    originX = gt[0]\n",
    "    originY = gt[3]\n",
    "    pixel_width = gt[1]\n",
    "    pixel_height = gt[5]\n",
    "    x1 = int((bbox[0] - originX) / pixel_width)\n",
    "    x2 = int((bbox[1] - originX) / pixel_width) + 1\n",
    "\n",
    "    y1 = int((bbox[3] - originY) / pixel_height)\n",
    "    y2 = int((bbox[2] - originY) / pixel_height) + 1\n",
    "\n",
    "    xsize = x2 - x1\n",
    "    ysize = y2 - y1\n",
    "    return (x1, y1, xsize, ysize)\n",
    "\n",
    "\n",
    "vds = ogr.Open(file_n, GA_ReadOnly)\n",
    "assert (vds)\n",
    "vlyr = vds.GetLayer(0)\n",
    "layerlen = vlyr.__len__()\n",
    "\n",
    "layerDefinition = vlyr.GetLayerDefn()\n",
    "layer_list = []\n",
    "\n",
    "for i in range(layerDefinition.GetFieldCount()):\n",
    "    layer_name = layerDefinition.GetFieldDefn(i).GetName()\n",
    "    layer_list.append(layer_name)\n",
    "\n",
    "x = layer_list[0]\n",
    "ID = []\n",
    "for feature in vlyr:\n",
    "    feat = feature.GetField(x)\n",
    "    ID.append(feat)\n",
    "vlyr.ResetReading()  # reset the read position to the start\n",
    "\n",
    "\n",
    "def zonal_stats(vector_path, raster_path, nodata_value=None, global_src_extent=False):\n",
    "    rds = gdal.Open(raster_path, GA_ReadOnly)\n",
    "    assert (rds)\n",
    "    rb = rds.GetRasterBand(1)\n",
    "    rgt = rds.GetGeoTransform()\n",
    "\n",
    "    if nodata_value:\n",
    "        nodata_value = float(nodata_value)\n",
    "        rb.SetNoDataValue(nodata_value)\n",
    "\n",
    "    vds = ogr.Open(vector_path, GA_ReadOnly)\n",
    "    assert (vds)\n",
    "    vlyr = vds.GetLayer(0)\n",
    "\n",
    "    if global_src_extent:\n",
    "        src_offset = bbox_to_pixel_offsets(rgt, vlyr.GetExtent())\n",
    "        src_array = rb.ReadAsArray(*src_offset)\n",
    "\n",
    "        # calculate new geotransform of the layer subset\n",
    "        new_gt = (\n",
    "            (rgt[0] + (src_offset[0] * rgt[1])),\n",
    "            rgt[1],\n",
    "            0.0,\n",
    "            (rgt[3] + (src_offset[1] * rgt[5])),\n",
    "            0.0,\n",
    "            rgt[5]\n",
    "        )\n",
    "\n",
    "    mem_drv = ogr.GetDriverByName('Memory')\n",
    "    driver = gdal.GetDriverByName('MEM')\n",
    "\n",
    "    # Loop through vectors\n",
    "    stats = []\n",
    "    feat = vlyr.GetNextFeature()\n",
    "    while feat is not None:\n",
    "\n",
    "        if not global_src_extent:\n",
    "            src_offset = bbox_to_pixel_offsets(rgt, feat.geometry().GetEnvelope())\n",
    "            src_array = rb.ReadAsArray(*src_offset)\n",
    "\n",
    "            # calculate new geotransform of the feature subset\n",
    "            new_gt = (\n",
    "                (rgt[0] + (src_offset[0] * rgt[1])),\n",
    "                rgt[1],\n",
    "                0.0,\n",
    "                (rgt[3] + (src_offset[1] * rgt[5])),\n",
    "                0.0,\n",
    "                rgt[5]\n",
    "            )\n",
    "\n",
    "        # Create a temporary vector layer in memory\n",
    "        mem_ds = mem_drv.CreateDataSource('out')\n",
    "        mem_layer = mem_ds.CreateLayer('poly', None, ogr.wkbPolygon)\n",
    "        mem_layer.CreateFeature(feat.Clone())\n",
    "\n",
    "        # Rasterize it\n",
    "        rvds = driver.Create('', src_offset[2], src_offset[3], 1, gdal.GDT_Byte)\n",
    "        rvds.SetGeoTransform(new_gt)\n",
    "        gdal.RasterizeLayer(rvds, [1], mem_layer, burn_values=[1])\n",
    "        rv_array = rvds.ReadAsArray()\n",
    "\n",
    "        masked = np.ma.MaskedArray(\n",
    "            src_array,\n",
    "            mask=np.logical_or(\n",
    "                src_array == nodata_value,\n",
    "                np.logical_not(rv_array)\n",
    "            )\n",
    "        )\n",
    "\n",
    "        sum_all = (masked.data * (np.where(masked.mask == True, False, True))).sum()\n",
    "        if (sum_all == 0):\n",
    "            zero_mean = 0\n",
    "        else:\n",
    "            x, y = np.unique(masked.filled(), return_counts=True)\n",
    "            c = dict(zip(x.data, y))\n",
    "\n",
    "            if 0 in c.keys():\n",
    "                if masked.count() == c[0]:\n",
    "                    zero_mean = 0\n",
    "                else:\n",
    "                    zero_mean = float(sum_all / (masked.count() - c[0]))\n",
    "            else:\n",
    "                zero_mean = masked.mean()\n",
    "\n",
    "        feature_stats = {\n",
    "            'min': float(masked.min()),\n",
    "            'mean': float(masked.mean()),\n",
    "            'max': float(masked.max()),\n",
    "            'std': float(masked.std()),\n",
    "            'sum': float(masked.sum()),\n",
    "            'count': int(masked.count()),\n",
    "            'fid': int(feat.GetFID()),\n",
    "            'mean_wo_zero': zero_mean}\n",
    "\n",
    "        stats.append(feature_stats)\n",
    "\n",
    "        rvds = None\n",
    "        mem_ds = None\n",
    "        feat = vlyr.GetNextFeature()\n",
    "\n",
    "    vds = None\n",
    "    rds = None\n",
    "    return stats\n"
   ]
  },
  {
   "cell_type": "markdown",
   "metadata": {},
   "source": [
    "### Selection of a Region\n",
    "\n",
    "Select a region (Alps, Norway or Mountanous regions of Turkey) below. "
   ]
  },
  {
   "cell_type": "code",
   "execution_count": 2,
   "metadata": {},
   "outputs": [
    {
     "data": {
      "application/vnd.jupyter.widget-view+json": {
       "model_id": "a03f2a1819a64c9d96ff4ac10918d434",
       "version_major": 2,
       "version_minor": 0
      },
      "text/plain": [
       "RadioButtons(description='Area', options=('alps', 'Norway', 'turkiye_daglik_alanlar'), value='alps')"
      ]
     },
     "metadata": {},
     "output_type": "display_data"
    }
   ],
   "source": [
    "from ipywidgets import interact\n",
    "import ipywidgets as widgets\n",
    "from ipywidgets import FileUpload\n",
    "from auxilary import *\n",
    "import warnings\n",
    "warnings.simplefilter(\"ignore\")\n",
    "import pylab\n",
    "\n",
    "dec1 = widgets.RadioButtons(\n",
    "    options=['alps','Norway','turkiye_daglik_alanlar'],\n",
    "    value = 'alps',\n",
    "    description='Area',\n",
    "    disabled=False\n",
    ")\n",
    "display(dec1)\n"
   ]
  },
  {
   "cell_type": "code",
   "execution_count": 3,
   "metadata": {},
   "outputs": [
    {
     "name": "stdout",
     "output_type": "stream",
     "text": [
      "areas_master/Norway.shp\n"
     ]
    }
   ],
   "source": [
    "input_polygon = os.path.join('areas_master',dec1.value + '.shp')\n",
    "print(input_polygon)"
   ]
  },
  {
   "cell_type": "markdown",
   "metadata": {},
   "source": [
    "### Monthly Minimum and Maximum Means of ERA5 and H13 for the Selected Region"
   ]
  },
  {
   "cell_type": "code",
   "execution_count": 4,
   "metadata": {},
   "outputs": [
    {
     "name": "stderr",
     "output_type": "stream",
     "text": [
      "findfont: Font family ['normal'] not found. Falling back to DejaVu Sans.\n",
      "findfont: Font family ['normal'] not found. Falling back to DejaVu Sans.\n"
     ]
    },
    {
     "data": {
      "image/png": "[encoded data removed]",
      "text/plain": [
       "<Figure size 432x288 with 2 Axes>"
      ]
     },
     "metadata": {
      "needs_background": "light"
     },
     "output_type": "display_data"
    }
   ],
   "source": [
    "process_data8 = pd.DataFrame(columns=['Date','mean','sum','count', 'std'])\n",
    "process_data9 = pd.DataFrame(columns=['Date','mean','sum','count', 'std'])\n",
    "for date in dateList3:\n",
    "    file = 'era5_'+date+'_cut.tif'\n",
    "    file2 = 'rho_'+date+'.tif'\n",
    "    p2 = os.path.join(process_path2,file2)\n",
    "    p = os.path.join(process_path, file)\n",
    "    a = zonal_stats(input_polygon, p)\n",
    "    b = zonal_stats(input_polygon,p2)\n",
    "    #returns stats for all the dates\n",
    "    # list_.append(a)\n",
    "\n",
    "# print(list_)\n",
    "    era_stats = pd.DataFrame(a)\n",
    "    rho_stats = pd.DataFrame(b)\n",
    "    process_data8 = process_data8.append({'Date':str(date), 'mean': era_stats['mean'][i], 'sum': era_stats['sum'][i], 'count': era_stats['count'][i], 'standart_deviation' : era_stats['std'][i]}, ignore_index=True)\n",
    "    process_data9 = process_data9.append({'Date': str(date), 'mean': rho_stats['mean'][i], 'sum': rho_stats['sum'][i], 'count': rho_stats['count'][i], 'standart_deviation' : rho_stats['std'][i]}, ignore_index=True)\n",
    "pd_ = process_data8.assign(years = yearList)\n",
    "pd_['months'] = monthList\n",
    "pd2_ = process_data9.assign(years = yearList)\n",
    "pd2_['months'] = monthList\n",
    "\n",
    "m = [1,2,3,4,5,6,7,8,9,10,11,12]\n",
    "\n",
    "eramin = []\n",
    "eramax = []\n",
    "rhomin = []\n",
    "rhomax = []\n",
    "for month in m:\n",
    "    rslt_df = pd_.loc[pd_['months'] == month]\n",
    "    rslt_df2 = pd2_.loc[pd2_['months'] == month]\n",
    "    mean_lera= list(rslt_df['mean'])\n",
    "    mean_lrho = list(rslt_df2['mean'])\n",
    "    mean_lrho = [i * 1000 for i in mean_lrho]\n",
    "    mean_lrho = np.nan_to_num(mean_lrho)\n",
    "    eramin.append(np.min(mean_lera))\n",
    "    eramax.append(np.max(mean_lera))\n",
    "    rhomin.append(np.min(mean_lrho))\n",
    "    rhomax.append(np.max(mean_lrho))\n",
    "    \n",
    "plt.subplot(1, 2, 1)\n",
    "x=uniquemonthList\n",
    "_X = np.arange(len(x))\n",
    "era_y = eramin\n",
    "rho_y = rhomin\n",
    "\n",
    "\n",
    "plt.bar(_X - 0.2, era_y, 0.4)\n",
    "plt.bar(_X + 0.2, rho_y, 0.4)\n",
    "plt.xticks(_X, x)\n",
    "\n",
    "font = {'family' : 'normal',\n",
    "        'weight' : 'bold',\n",
    "        'size'   : 5}\n",
    "\n",
    "matplotlib.rc('font', **font)\n",
    "colors = {'era5':'blue', 'rho':'orange'}         \n",
    "labels = list(colors.keys())\n",
    "handles = [plt.Rectangle((0,0),1,1, color=colors[label]) for label in labels]\n",
    "        \n",
    "plt.xlabel('Months', fontsize=10)\n",
    "plt.ylabel('Minimum Mean Snow Density (kg/m^3)', fontsize=10)\n",
    "plt.legend(handles, labels)\n",
    "\n",
    "plt.subplot(1, 2, 2)\n",
    "\n",
    "x=uniquemonthList\n",
    "_X = np.arange(len(x))\n",
    "era_y = eramax\n",
    "rho_y = rhomax\n",
    "\n",
    "\n",
    "plt.bar(_X - 0.2, era_y, 0.4)\n",
    "plt.bar(_X + 0.2, rho_y, 0.4)\n",
    "plt.xticks(_X, x)\n",
    "\n",
    "font = {'family' : 'normal',\n",
    "        'weight' : 'bold',\n",
    "        'size'   : 5}\n",
    "\n",
    "matplotlib.rc('font', **font)\n",
    "colors = {'era5':'blue', 'rho':'orange'}         \n",
    "labels = list(colors.keys())\n",
    "handles = [plt.Rectangle((0,0),1,1, color=colors[label]) for label in labels]\n",
    "        \n",
    "plt.xlabel('Months', fontsize=10)\n",
    "plt.ylabel('Maximum Mean Snow Density (kg/m^3)', fontsize=10)\n",
    "plt.legend(handles, labels)\n",
    "plt.tight_layout()\n",
    "\n",
    "plt.show()\n",
    "\n"
   ]
  },
  {
   "cell_type": "markdown",
   "metadata": {},
   "source": [
    "### Yearly Minimum and Maximum Means of ERA5 and H13 for the Selected Region"
   ]
  },
  {
   "cell_type": "code",
   "execution_count": 5,
   "metadata": {},
   "outputs": [
    {
     "data": {
      "image/png": "[encoded data removed]",
      "text/plain": [
       "<Figure size 432x288 with 2 Axes>"
      ]
     },
     "metadata": {
      "needs_background": "light"
     },
     "output_type": "display_data"
    }
   ],
   "source": [
    "y = [\"2013\",\"2014\",\"2015\",\"2016\",\"2017\",\"2018\",\"2019\"]\n",
    "eramin = []\n",
    "eramax = []\n",
    "rhomin = []\n",
    "rhomax = []\n",
    "for year in y:\n",
    "    rslt_df = pd_.loc[pd_['years'] == year]\n",
    "    rslt_df2 = pd2_.loc[pd2_['years'] == year]\n",
    "   \n",
    "    mean_lera= list(rslt_df['mean'])\n",
    "    mean_lrho = list(rslt_df2['mean'])\n",
    "    mean_lrho = [i * 1000 for i in mean_lrho]\n",
    "    mean_lrho = np.nan_to_num(mean_lrho)\n",
    "    eramin.append(np.min(mean_lera))\n",
    "    eramax.append(np.max(mean_lera))\n",
    "    rhomin.append(np.min(mean_lrho))\n",
    "    rhomax.append(np.max(mean_lrho))\n",
    "    \n",
    "plt.subplot(1, 2, 1)\n",
    "x=uniqueyearList\n",
    "_X = np.arange(len(x))\n",
    "era_y = eramin\n",
    "rho_y = rhomin\n",
    "# plt.figure(figsize=(50,20))\n",
    "\n",
    "plt.bar(_X - 0.2, era_y, 0.4)\n",
    "plt.bar(_X + 0.2, rho_y, 0.4)\n",
    "plt.xticks(_X, x)\n",
    "\n",
    "font = {'family' : 'normal',\n",
    "        'weight' : 'bold',\n",
    "        'size'   : 5}\n",
    "\n",
    "matplotlib.rc('font', **font)\n",
    "colors = {'era5':'blue', 'rho':'orange'}         \n",
    "labels = list(colors.keys())\n",
    "handles = [plt.Rectangle((0,0),1,1, color=colors[label]) for label in labels]\n",
    "        \n",
    "plt.xlabel('Years', fontsize=10)\n",
    "plt.ylabel('Minimum Mean Snow Density (kg/m^3)', fontsize=10)\n",
    "plt.legend(handles, labels)\n",
    "\n",
    "plt.subplot(1, 2, 2)\n",
    "\n",
    "x=uniqueyearList\n",
    "_X = np.arange(len(x))\n",
    "era_y = eramax\n",
    "rho_y = rhomax\n",
    "# plt.figure(figsize=(50,20))\n",
    "\n",
    "plt.bar(_X - 0.2, era_y, 0.4)\n",
    "plt.bar(_X + 0.2, rho_y, 0.4)\n",
    "plt.xticks(_X, x)\n",
    "\n",
    "font = {'family' : 'normal',\n",
    "        'weight' : 'bold',\n",
    "        'size'   : 5}\n",
    "\n",
    "matplotlib.rc('font', **font)\n",
    "colors = {'era5':'blue', 'rho':'orange'}         \n",
    "labels = list(colors.keys())\n",
    "handles = [plt.Rectangle((0,0),1,1, color=colors[label]) for label in labels]\n",
    "        \n",
    "plt.xlabel('Years', fontsize=10)\n",
    "plt.ylabel('Maximum Mean Snow Density (kg/m^3)', fontsize=10)\n",
    "plt.legend(handles, labels)\n",
    "plt.tight_layout()\n",
    "\n",
    "plt.show()\n",
    "\n"
   ]
  },
  {
   "cell_type": "markdown",
   "metadata": {},
   "source": [
    "### Monthly  Means of ERA5 and H13 for the Selected Region"
   ]
  },
  {
   "cell_type": "code",
   "execution_count": 7,
   "metadata": {},
   "outputs": [
    {
     "data": {
      "image/png": "[encoded data removed]",
      "text/plain": [
       "<Figure size 432x288 with 1 Axes>"
      ]
     },
     "metadata": {
      "needs_background": "light"
     },
     "output_type": "display_data"
    }
   ],
   "source": [
    "eramean = []\n",
    "rhomean = []\n",
    "\n",
    "for month in m:\n",
    "    rslt_df = pd_.loc[pd_['months'] == month]\n",
    "    rslt_df2 = pd2_.loc[pd2_['months'] == month]\n",
    "    mean_lera= list(rslt_df['mean'])\n",
    "    mean_lrho = list(rslt_df2['mean'])\n",
    "    mean_lrho = [i * 1000 for i in mean_lrho]\n",
    "    mean_lrho = np.nan_to_num(mean_lrho)\n",
    "    eramean.append(np.mean(mean_lera))\n",
    "    rhomean.append(np.mean(mean_lrho))\n",
    "\n",
    "    \n",
    "x=uniquemonthList\n",
    "_X = np.arange(len(x))\n",
    "era_y = eramean\n",
    "rho_y = rhomean\n",
    "\n",
    "\n",
    "plt.bar(_X - 0.2, era_y, 0.4)\n",
    "plt.bar(_X + 0.2, rho_y, 0.4)\n",
    "plt.xticks(_X, x)\n",
    "\n",
    "font = {'family' : 'normal',\n",
    "        'weight' : 'bold',\n",
    "        'size'   : 5}\n",
    "\n",
    "matplotlib.rc('font', **font)\n",
    "colors = {'era5':'blue', 'rho':'orange'}         \n",
    "labels = list(colors.keys())\n",
    "handles = [plt.Rectangle((0,0),1,1, color=colors[label]) for label in labels]\n",
    "        \n",
    "plt.xlabel('Months', fontsize=10)\n",
    "plt.ylabel('Monthly Mean Snow Density (kg/m^3)', fontsize=10)\n",
    "plt.legend(handles, labels)\n",
    "\n",
    "plt.show()\n"
   ]
  },
  {
   "cell_type": "markdown",
   "metadata": {},
   "source": [
    "### Yearly  Means of ERA5 and H13 for the Selected Region"
   ]
  },
  {
   "cell_type": "code",
   "execution_count": 11,
   "metadata": {},
   "outputs": [
    {
     "data": {
      "image/png": "[encoded data removed]",
      "text/plain": [
       "<Figure size 432x288 with 1 Axes>"
      ]
     },
     "metadata": {
      "needs_background": "light"
     },
     "output_type": "display_data"
    }
   ],
   "source": [
    "y = [\"2013\",\"2014\",\"2015\",\"2016\",\"2017\",\"2018\",\"2019\"]\n",
    "eramean = []\n",
    "rhomean = []\n",
    "\n",
    "for year in y:\n",
    "    rslt_df = pd_.loc[pd_['years'] == year]\n",
    "    rslt_df2 = pd2_.loc[pd2_['years'] == year]\n",
    "   \n",
    "    mean_lera= list(rslt_df['mean'])\n",
    "    mean_lrho = list(rslt_df2['mean'])\n",
    "    mean_lrho = [i * 1000 for i in mean_lrho]\n",
    "    mean_lrho = np.nan_to_num(mean_lrho)\n",
    "    eramean.append(np.mean(mean_lera))\n",
    "    rhomean.append(np.mean(mean_lrho))\n",
    "    \n",
    "    \n",
    "\n",
    "x=uniqueyearList\n",
    "_X = np.arange(len(x))\n",
    "era_y = eramean\n",
    "rho_y = rhomean\n",
    "# plt.figure(figsize=(50,20))\n",
    "\n",
    "plt.bar(_X - 0.2, era_y, 0.4)\n",
    "plt.bar(_X + 0.2, rho_y, 0.4)\n",
    "plt.xticks(_X, x)\n",
    "\n",
    "font = {'family' : 'normal',\n",
    "        'weight' : 'bold',\n",
    "        'size'   : 5}\n",
    "\n",
    "matplotlib.rc('font', **font)\n",
    "colors = {'era5':'blue', 'rho':'orange'}         \n",
    "labels = list(colors.keys())\n",
    "handles = [plt.Rectangle((0,0),1,1, color=colors[label]) for label in labels]\n",
    "        \n",
    "plt.xlabel('Years', fontsize=10)\n",
    "plt.ylabel('Yearly Mean Snow Density (kg/m^3)', fontsize=10)\n",
    "plt.legend(handles, labels)\n",
    "\n",
    "plt.show()\n"
   ]
  }
 ],
 "metadata": {
  "kernelspec": {
   "display_name": "Python 3",
   "language": "python",
   "name": "python3"
  },
  "language_info": {
   "codemirror_mode": {
    "name": "ipython",
    "version": 3
   },
   "file_extension": ".py",
   "mimetype": "text/x-python",
   "name": "python",
   "nbconvert_exporter": "python",
   "pygments_lexer": "ipython3",
   "version": "3.6.9"
  }
 },
 "nbformat": 4,
 "nbformat_minor": 4
}
